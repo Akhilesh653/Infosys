{
  "nbformat": 4,
  "nbformat_minor": 0,
  "metadata": {
    "colab": {
      "provenance": [],
      "gpuType": "T4"
    },
    "kernelspec": {
      "name": "python3",
      "display_name": "Python 3"
    },
    "language_info": {
      "name": "python"
    },
    "accelerator": "GPU"
  },
  "cells": [
    {
      "cell_type": "code",
      "execution_count": 1,
      "metadata": {
        "colab": {
          "base_uri": "https://localhost:8080/"
        },
        "id": "n4vIPMuzdujG",
        "outputId": "a2e982cd-12eb-4b59-d69b-2d670a9f9ef8"
      },
      "outputs": [
        {
          "output_type": "stream",
          "name": "stdout",
          "text": [
            "  Preparing metadata (setup.py) ... \u001b[?25l\u001b[?25hdone\n",
            "\u001b[2K   \u001b[90m━━━━━━━━━━━━━━━━━━━━━━━━━━━━━━━━━━━━━━━━\u001b[0m \u001b[32m7.2/7.2 MB\u001b[0m \u001b[31m81.3 MB/s\u001b[0m eta \u001b[36m0:00:00\u001b[0m\n",
            "\u001b[2K   \u001b[90m━━━━━━━━━━━━━━━━━━━━━━━━━━━━━━━━━━━━━━━━\u001b[0m \u001b[32m3.2/3.2 MB\u001b[0m \u001b[31m97.0 MB/s\u001b[0m eta \u001b[36m0:00:00\u001b[0m\n",
            "\u001b[?25h  Building wheel for srt (setup.py) ... \u001b[?25l\u001b[?25hdone\n",
            "  Installing build dependencies ... \u001b[?25l\u001b[?25hdone\n",
            "  Getting requirements to build wheel ... \u001b[?25l\u001b[?25hdone\n",
            "  Preparing metadata (pyproject.toml) ... \u001b[?25l\u001b[?25hdone\n",
            "  Building wheel for openai-whisper (pyproject.toml) ... \u001b[?25l\u001b[?25hdone\n"
          ]
        }
      ],
      "source": [
        "!pip install -q vosk jiwer\n",
        "!pip install -q git+https://github.com/openai/whisper.git\n",
        "!apt-get -y install ffmpeg >/dev/null"
      ]
    },
    {
      "cell_type": "code",
      "source": [
        "AMI_AUDIO_DIR = \"/content\"  # uploaded files land here\n"
      ],
      "metadata": {
        "id": "Wj5lEFPbhHmb"
      },
      "execution_count": 2,
      "outputs": []
    },
    {
      "cell_type": "code",
      "source": [
        "import glob, os\n",
        "wav_files = sorted(glob.glob(os.path.join(AMI_AUDIO_DIR, \"**/*.wav\"), recursive=True))\n",
        "print(f\"Found {len(wav_files)} wav files\")\n",
        "print(wav_files[:5])\n"
      ],
      "metadata": {
        "colab": {
          "base_uri": "https://localhost:8080/"
        },
        "id": "SbRPpxEDhRUJ",
        "outputId": "ee7cc81a-f417-44c4-a5f9-3501fbdbe708"
      },
      "execution_count": 3,
      "outputs": [
        {
          "output_type": "stream",
          "name": "stdout",
          "text": [
            "Found 1 wav files\n",
            "['/content/EN2002a.wav']\n"
          ]
        }
      ]
    },
    {
      "cell_type": "code",
      "source": [
        "import os, shutil\n",
        "\n",
        "# Make refs folder for reference transcripts\n",
        "os.makedirs(\"refs\", exist_ok=True)\n",
        "\n",
        "# Rename your uploaded transcript to match the audio file\n",
        "shutil.copy(\"meeting_transcript_for_summarizer.txt\", \"refs/EN2002a.txt\")\n",
        "\n",
        "print(\"Transcript saved as refs/EN2002a.txt\")\n"
      ],
      "metadata": {
        "colab": {
          "base_uri": "https://localhost:8080/"
        },
        "id": "0kCne26cIuHS",
        "outputId": "00f8a6e4-ab14-47ca-ec08-342176c71b37"
      },
      "execution_count": 16,
      "outputs": [
        {
          "output_type": "stream",
          "name": "stdout",
          "text": [
            "Transcript saved as refs/EN2002a.txt\n"
          ]
        }
      ]
    },
    {
      "cell_type": "code",
      "source": [
        "import wave, json\n",
        "from vosk import Model, KaldiRecognizer\n",
        "\n",
        "vosk_model = Model(\"vosk-model-small-en-us-0.15\")\n",
        "\n",
        "def transcribe_vosk(path):\n",
        "    wf = wave.open(path, \"rb\")\n",
        "    rec = KaldiRecognizer(vosk_model, wf.getframerate())\n",
        "    rec.SetWords(True)\n",
        "    text = \"\"\n",
        "    while True:\n",
        "        data = wf.readframes(4000)\n",
        "        if len(data) == 0:\n",
        "            break\n",
        "        if rec.AcceptWaveform(data):\n",
        "            res = json.loads(rec.Result())\n",
        "            text += res.get(\"text\", \"\") + \" \"\n",
        "    res = json.loads(rec.FinalResult())\n",
        "    text += res.get(\"text\", \"\")\n",
        "    return text.strip()\n"
      ],
      "metadata": {
        "id": "9NlcqRNmJLnY"
      },
      "execution_count": 17,
      "outputs": []
    },
    {
      "cell_type": "code",
      "source": [
        "import whisper\n",
        "model_whisper = whisper.load_model(\"base\")  # use \"small\" or \"medium\" for better quality\n",
        "\n",
        "def transcribe_whisper(path):\n",
        "    result = model_whisper.transcribe(path)\n",
        "    return result[\"text\"].strip()\n"
      ],
      "metadata": {
        "id": "WbtbuL7yJPHj"
      },
      "execution_count": 18,
      "outputs": []
    },
    {
      "cell_type": "code",
      "source": [
        "audio_file = \"EN2002a.wav\"  # make sure your audio is uploaded to /content\n",
        "\n",
        "vosk_text = transcribe_vosk(audio_file)\n",
        "whisper_text = transcribe_whisper(audio_file)\n",
        "\n",
        "print(\"Vosk Transcript (first 300 chars):\", vosk_text[:300])\n",
        "print(\"\\nWhisper Transcript (first 300 chars):\", whisper_text[:300])\n"
      ],
      "metadata": {
        "colab": {
          "base_uri": "https://localhost:8080/"
        },
        "id": "SfRLRYylJSto",
        "outputId": "31aa7ff7-b9b1-4413-94dc-205a3c554fb8"
      },
      "execution_count": 19,
      "outputs": [
        {
          "output_type": "stream",
          "name": "stdout",
          "text": [
            "Vosk Transcript (first 300 chars): on going to the meetings as talking about the stuff of the meetings yeah nevertheless the here get a certificate right so we really need to talk about the bodies are we just go around and everyone says what they what they've been doing that without anything live say yeah sounds like you've done i co\n",
            "\n",
            "Whisper Transcript (first 300 chars): I want to go to the meetings. I'm talking about the stuff at the meetings. Yeah, I am really stuffed. Yeah, I am. Okay. So what do we need to talk about? So we just go round and everyone says what they've been doing. Does it mean that anything? Not at all. Well, I'm sorry. Okay. Well, I've got a bro\n"
          ]
        }
      ]
    },
    {
      "cell_type": "code",
      "source": [
        "import time\n",
        "from jiwer import wer\n",
        "\n",
        "# --- Load reference transcript ---\n",
        "with open(\"refs/EN2002a.txt\", \"r\", encoding=\"utf-8\") as f:\n",
        "    reference = f.read()\n",
        "\n",
        "# --- Vosk transcription with timing ---\n",
        "start = time.time()\n",
        "vosk_text = transcribe_vosk(audio_file)\n",
        "vosk_time = time.time() - start\n",
        "\n",
        "# --- Whisper transcription with timing ---\n",
        "start = time.time()\n",
        "whisper_text = whisper_model.transcribe(audio_file)[\"text\"].strip()\n",
        "whisper_time = time.time() - start\n",
        "\n",
        "# --- Compute WER ---\n",
        "vosk_wer = wer(reference, vosk_text)\n",
        "whisper_wer = wer(reference, whisper_text)\n",
        "\n",
        "# --- Print results ---\n",
        "print(\"Benchmark Results for\", audio_file)\n",
        "print(f\" - Vosk    : WER = {vosk_wer:.3f} | Time = {vosk_time:.2f} sec\")\n",
        "print(f\" - Whisper : WER = {whisper_wer:.3f} | Time = {whisper_time:.2f} sec\")\n"
      ],
      "metadata": {
        "colab": {
          "base_uri": "https://localhost:8080/"
        },
        "id": "qKXUQag_PfQr",
        "outputId": "f4428908-1640-4dfe-b06b-ec36b356cb55"
      },
      "execution_count": 33,
      "outputs": [
        {
          "output_type": "stream",
          "name": "stdout",
          "text": [
            "Benchmark Results for EN2002a.wav\n",
            " - Vosk    : WER = 6.383 | Time = 254.75 sec\n",
            " - Whisper : WER = 6.107 | Time = 114.45 sec\n"
          ]
        }
      ]
    },
    {
      "cell_type": "code",
      "source": [
        "import pandas as pd\n",
        "\n",
        "benchmark = pd.DataFrame([{\n",
        "    \"File\": \"EN2002a.wav\",\n",
        "    \"Vosk_WER\": round(vosk_wer, 3),\n",
        "    \"Whisper_WER\": round(whisper_wer, 3),\n",
        "    \"Vosk_Time_sec\": round(vosk_time, 2),\n",
        "    \"Whisper_Time_sec\": round(whisper_time, 2),\n",
        "}])\n",
        "\n",
        "benchmark\n"
      ],
      "metadata": {
        "colab": {
          "base_uri": "https://localhost:8080/",
          "height": 89
        },
        "id": "SaqsEYqdQ-j2",
        "outputId": "3f586e0a-5290-42be-e463-1509c6583dac"
      },
      "execution_count": 35,
      "outputs": [
        {
          "output_type": "execute_result",
          "data": {
            "text/plain": [
              "          File  Vosk_WER  Whisper_WER  Vosk_Time_sec  Whisper_Time_sec\n",
              "0  EN2002a.wav     6.383        6.107         254.75            114.45"
            ],
            "text/html": [
              "\n",
              "  <div id=\"df-5eaf8cae-11c6-4ec5-90a5-170f0da38437\" class=\"colab-df-container\">\n",
              "    <div>\n",
              "<style scoped>\n",
              "    .dataframe tbody tr th:only-of-type {\n",
              "        vertical-align: middle;\n",
              "    }\n",
              "\n",
              "    .dataframe tbody tr th {\n",
              "        vertical-align: top;\n",
              "    }\n",
              "\n",
              "    .dataframe thead th {\n",
              "        text-align: right;\n",
              "    }\n",
              "</style>\n",
              "<table border=\"1\" class=\"dataframe\">\n",
              "  <thead>\n",
              "    <tr style=\"text-align: right;\">\n",
              "      <th></th>\n",
              "      <th>File</th>\n",
              "      <th>Vosk_WER</th>\n",
              "      <th>Whisper_WER</th>\n",
              "      <th>Vosk_Time_sec</th>\n",
              "      <th>Whisper_Time_sec</th>\n",
              "    </tr>\n",
              "  </thead>\n",
              "  <tbody>\n",
              "    <tr>\n",
              "      <th>0</th>\n",
              "      <td>EN2002a.wav</td>\n",
              "      <td>6.383</td>\n",
              "      <td>6.107</td>\n",
              "      <td>254.75</td>\n",
              "      <td>114.45</td>\n",
              "    </tr>\n",
              "  </tbody>\n",
              "</table>\n",
              "</div>\n",
              "    <div class=\"colab-df-buttons\">\n",
              "\n",
              "  <div class=\"colab-df-container\">\n",
              "    <button class=\"colab-df-convert\" onclick=\"convertToInteractive('df-5eaf8cae-11c6-4ec5-90a5-170f0da38437')\"\n",
              "            title=\"Convert this dataframe to an interactive table.\"\n",
              "            style=\"display:none;\">\n",
              "\n",
              "  <svg xmlns=\"http://www.w3.org/2000/svg\" height=\"24px\" viewBox=\"0 -960 960 960\">\n",
              "    <path d=\"M120-120v-720h720v720H120Zm60-500h600v-160H180v160Zm220 220h160v-160H400v160Zm0 220h160v-160H400v160ZM180-400h160v-160H180v160Zm440 0h160v-160H620v160ZM180-180h160v-160H180v160Zm440 0h160v-160H620v160Z\"/>\n",
              "  </svg>\n",
              "    </button>\n",
              "\n",
              "  <style>\n",
              "    .colab-df-container {\n",
              "      display:flex;\n",
              "      gap: 12px;\n",
              "    }\n",
              "\n",
              "    .colab-df-convert {\n",
              "      background-color: #E8F0FE;\n",
              "      border: none;\n",
              "      border-radius: 50%;\n",
              "      cursor: pointer;\n",
              "      display: none;\n",
              "      fill: #1967D2;\n",
              "      height: 32px;\n",
              "      padding: 0 0 0 0;\n",
              "      width: 32px;\n",
              "    }\n",
              "\n",
              "    .colab-df-convert:hover {\n",
              "      background-color: #E2EBFA;\n",
              "      box-shadow: 0px 1px 2px rgba(60, 64, 67, 0.3), 0px 1px 3px 1px rgba(60, 64, 67, 0.15);\n",
              "      fill: #174EA6;\n",
              "    }\n",
              "\n",
              "    .colab-df-buttons div {\n",
              "      margin-bottom: 4px;\n",
              "    }\n",
              "\n",
              "    [theme=dark] .colab-df-convert {\n",
              "      background-color: #3B4455;\n",
              "      fill: #D2E3FC;\n",
              "    }\n",
              "\n",
              "    [theme=dark] .colab-df-convert:hover {\n",
              "      background-color: #434B5C;\n",
              "      box-shadow: 0px 1px 3px 1px rgba(0, 0, 0, 0.15);\n",
              "      filter: drop-shadow(0px 1px 2px rgba(0, 0, 0, 0.3));\n",
              "      fill: #FFFFFF;\n",
              "    }\n",
              "  </style>\n",
              "\n",
              "    <script>\n",
              "      const buttonEl =\n",
              "        document.querySelector('#df-5eaf8cae-11c6-4ec5-90a5-170f0da38437 button.colab-df-convert');\n",
              "      buttonEl.style.display =\n",
              "        google.colab.kernel.accessAllowed ? 'block' : 'none';\n",
              "\n",
              "      async function convertToInteractive(key) {\n",
              "        const element = document.querySelector('#df-5eaf8cae-11c6-4ec5-90a5-170f0da38437');\n",
              "        const dataTable =\n",
              "          await google.colab.kernel.invokeFunction('convertToInteractive',\n",
              "                                                    [key], {});\n",
              "        if (!dataTable) return;\n",
              "\n",
              "        const docLinkHtml = 'Like what you see? Visit the ' +\n",
              "          '<a target=\"_blank\" href=https://colab.research.google.com/notebooks/data_table.ipynb>data table notebook</a>'\n",
              "          + ' to learn more about interactive tables.';\n",
              "        element.innerHTML = '';\n",
              "        dataTable['output_type'] = 'display_data';\n",
              "        await google.colab.output.renderOutput(dataTable, element);\n",
              "        const docLink = document.createElement('div');\n",
              "        docLink.innerHTML = docLinkHtml;\n",
              "        element.appendChild(docLink);\n",
              "      }\n",
              "    </script>\n",
              "  </div>\n",
              "\n",
              "\n",
              "  <div id=\"id_ac0cc322-8fdd-480d-b6a7-f991c676c52a\">\n",
              "    <style>\n",
              "      .colab-df-generate {\n",
              "        background-color: #E8F0FE;\n",
              "        border: none;\n",
              "        border-radius: 50%;\n",
              "        cursor: pointer;\n",
              "        display: none;\n",
              "        fill: #1967D2;\n",
              "        height: 32px;\n",
              "        padding: 0 0 0 0;\n",
              "        width: 32px;\n",
              "      }\n",
              "\n",
              "      .colab-df-generate:hover {\n",
              "        background-color: #E2EBFA;\n",
              "        box-shadow: 0px 1px 2px rgba(60, 64, 67, 0.3), 0px 1px 3px 1px rgba(60, 64, 67, 0.15);\n",
              "        fill: #174EA6;\n",
              "      }\n",
              "\n",
              "      [theme=dark] .colab-df-generate {\n",
              "        background-color: #3B4455;\n",
              "        fill: #D2E3FC;\n",
              "      }\n",
              "\n",
              "      [theme=dark] .colab-df-generate:hover {\n",
              "        background-color: #434B5C;\n",
              "        box-shadow: 0px 1px 3px 1px rgba(0, 0, 0, 0.15);\n",
              "        filter: drop-shadow(0px 1px 2px rgba(0, 0, 0, 0.3));\n",
              "        fill: #FFFFFF;\n",
              "      }\n",
              "    </style>\n",
              "    <button class=\"colab-df-generate\" onclick=\"generateWithVariable('benchmark')\"\n",
              "            title=\"Generate code using this dataframe.\"\n",
              "            style=\"display:none;\">\n",
              "\n",
              "  <svg xmlns=\"http://www.w3.org/2000/svg\" height=\"24px\"viewBox=\"0 0 24 24\"\n",
              "       width=\"24px\">\n",
              "    <path d=\"M7,19H8.4L18.45,9,17,7.55,7,17.6ZM5,21V16.75L18.45,3.32a2,2,0,0,1,2.83,0l1.4,1.43a1.91,1.91,0,0,1,.58,1.4,1.91,1.91,0,0,1-.58,1.4L9.25,21ZM18.45,9,17,7.55Zm-12,3A5.31,5.31,0,0,0,4.9,8.1,5.31,5.31,0,0,0,1,6.5,5.31,5.31,0,0,0,4.9,4.9,5.31,5.31,0,0,0,6.5,1,5.31,5.31,0,0,0,8.1,4.9,5.31,5.31,0,0,0,12,6.5,5.46,5.46,0,0,0,6.5,12Z\"/>\n",
              "  </svg>\n",
              "    </button>\n",
              "    <script>\n",
              "      (() => {\n",
              "      const buttonEl =\n",
              "        document.querySelector('#id_ac0cc322-8fdd-480d-b6a7-f991c676c52a button.colab-df-generate');\n",
              "      buttonEl.style.display =\n",
              "        google.colab.kernel.accessAllowed ? 'block' : 'none';\n",
              "\n",
              "      buttonEl.onclick = () => {\n",
              "        google.colab.notebook.generateWithVariable('benchmark');\n",
              "      }\n",
              "      })();\n",
              "    </script>\n",
              "  </div>\n",
              "\n",
              "    </div>\n",
              "  </div>\n"
            ],
            "application/vnd.google.colaboratory.intrinsic+json": {
              "type": "dataframe",
              "variable_name": "benchmark",
              "summary": "{\n  \"name\": \"benchmark\",\n  \"rows\": 1,\n  \"fields\": [\n    {\n      \"column\": \"File\",\n      \"properties\": {\n        \"dtype\": \"string\",\n        \"num_unique_values\": 1,\n        \"samples\": [\n          \"EN2002a.wav\"\n        ],\n        \"semantic_type\": \"\",\n        \"description\": \"\"\n      }\n    },\n    {\n      \"column\": \"Vosk_WER\",\n      \"properties\": {\n        \"dtype\": \"number\",\n        \"std\": null,\n        \"min\": 6.383,\n        \"max\": 6.383,\n        \"num_unique_values\": 1,\n        \"samples\": [\n          6.383\n        ],\n        \"semantic_type\": \"\",\n        \"description\": \"\"\n      }\n    },\n    {\n      \"column\": \"Whisper_WER\",\n      \"properties\": {\n        \"dtype\": \"number\",\n        \"std\": null,\n        \"min\": 6.107,\n        \"max\": 6.107,\n        \"num_unique_values\": 1,\n        \"samples\": [\n          6.107\n        ],\n        \"semantic_type\": \"\",\n        \"description\": \"\"\n      }\n    },\n    {\n      \"column\": \"Vosk_Time_sec\",\n      \"properties\": {\n        \"dtype\": \"number\",\n        \"std\": null,\n        \"min\": 254.75,\n        \"max\": 254.75,\n        \"num_unique_values\": 1,\n        \"samples\": [\n          254.75\n        ],\n        \"semantic_type\": \"\",\n        \"description\": \"\"\n      }\n    },\n    {\n      \"column\": \"Whisper_Time_sec\",\n      \"properties\": {\n        \"dtype\": \"number\",\n        \"std\": null,\n        \"min\": 114.45,\n        \"max\": 114.45,\n        \"num_unique_values\": 1,\n        \"samples\": [\n          114.45\n        ],\n        \"semantic_type\": \"\",\n        \"description\": \"\"\n      }\n    }\n  ]\n}"
            }
          },
          "metadata": {},
          "execution_count": 35
        }
      ]
    },
    {
      "cell_type": "code",
      "source": [
        "os.makedirs(\"outputs\", exist_ok=True)\n",
        "csv_path = \"outputs/benchmark_report_EN2002a.csv\"\n",
        "benchmark.to_csv(csv_path, index=False)\n",
        "print(\"Benchmark report saved to:\", csv_path)\n"
      ],
      "metadata": {
        "colab": {
          "base_uri": "https://localhost:8080/"
        },
        "id": "tPExwWk7RKeX",
        "outputId": "8684e9d0-b43a-4c7a-8af9-bded6c1b9851"
      },
      "execution_count": 36,
      "outputs": [
        {
          "output_type": "stream",
          "name": "stdout",
          "text": [
            "Benchmark report saved to: outputs/benchmark_report_EN2002a.csv\n"
          ]
        }
      ]
    },
    {
      "cell_type": "code",
      "source": [
        "import matplotlib.pyplot as plt\n",
        "\n",
        "labels = [\"Vosk\", \"Whisper\"]\n",
        "wers = [vosk_wer, whisper_wer]\n",
        "\n",
        "plt.figure(figsize=(6,4))\n",
        "plt.bar(labels, wers)\n",
        "plt.ylabel(\"WER\")\n",
        "plt.title(\"WER Comparison on EN2002a.wav\")\n",
        "plt.show()\n"
      ],
      "metadata": {
        "colab": {
          "base_uri": "https://localhost:8080/",
          "height": 391
        },
        "id": "snUhDXXPRau2",
        "outputId": "ab0ea971-cd48-4115-bfc6-da5b86148be6"
      },
      "execution_count": 37,
      "outputs": [
        {
          "output_type": "display_data",
          "data": {
            "text/plain": [
              "<Figure size 600x400 with 1 Axes>"
            ],
            "image/png": "[encoded data removed]"
          },
          "metadata": {}
        }
      ]
    }
  ]
}